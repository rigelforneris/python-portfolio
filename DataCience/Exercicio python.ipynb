{
 "cells": [
  {
   "cell_type": "code",
   "execution_count": 15,
   "metadata": {},
   "outputs": [
    {
     "data": {
      "text/plain": [
       "True"
      ]
     },
     "execution_count": 15,
     "metadata": {},
     "output_type": "execute_result"
    }
   ],
   "source": [
    "def numero_perfeito(num):    \n",
    "    num_d = num\n",
    "    num_s = 0\n",
    "    while True:       \n",
    "        num_d -= 1\n",
    "        \n",
    "        if num_d > 0:\n",
    "            div = num % num_d\n",
    "            if div == 0:\n",
    "                num_s += num_d                                   \n",
    "                if num_s == num:\n",
    "                    num_t = True\n",
    "                    return num_t\n",
    "                    break                                    \n",
    "        if num_d == 0:\n",
    "            num_t = False\n",
    "            return num_t\n",
    "            break    \n",
    "numero_perfeito(28)        "
   ]
  },
  {
   "cell_type": "code",
   "execution_count": 80,
   "metadata": {},
   "outputs": [
    {
     "name": "stdout",
     "output_type": "stream",
     "text": [
      "estudando\n"
     ]
    }
   ],
   "source": [
    "def tupla_par(tupla):\n",
    "    tpl = (len(tupla) - 1)\n",
    "    #print(tpl)\n",
    "    tp_d = tpl\n",
    "    while True:       \n",
    "        div = tp_d % 2                        \n",
    "        tp_d -= 1\n",
    "        \n",
    "        \n",
    "        \n",
    "        if div == 0:            \n",
    "            print(tupla[tp_d])            \n",
    "        \n",
    "        if tp_d == 0:\n",
    "            break\n",
    "tp=('oi', 'estou', 'estudando', 'poo')    \n",
    "tupla_par(tp)\n",
    "\n"
   ]
  },
  {
   "cell_type": "code",
   "execution_count": 60,
   "metadata": {},
   "outputs": [
    {
     "name": "stdout",
     "output_type": "stream",
     "text": [
      "estudando\n"
     ]
    }
   ],
   "source": [
    "tp=('oi', 'estou', 'estudando', 'poo')\n",
    "print(tp[2])"
   ]
  },
  {
   "cell_type": "code",
   "execution_count": 82,
   "metadata": {},
   "outputs": [
    {
     "data": {
      "text/plain": [
       "('oi', 'estudando')"
      ]
     },
     "execution_count": 82,
     "metadata": {},
     "output_type": "execute_result"
    }
   ],
   "source": [
    "def tupla_par(tupla):\n",
    "    tpar=(tupla[0],tupla[2])\n",
    "    return tpar\n",
    "tp=('oi', 'estou', 'estudando', 'poo')      \n",
    "tupla_par(tp)    "
   ]
  },
  {
   "cell_type": "code",
   "execution_count": 83,
   "metadata": {},
   "outputs": [
    {
     "data": {
      "text/plain": [
       "('oi', 'estudando')"
      ]
     },
     "execution_count": 83,
     "metadata": {},
     "output_type": "execute_result"
    }
   ],
   "source": [
    "def tupla_par(tupla):\n",
    "    tpar= tupla [::2]\n",
    "    return tpar\n",
    "tp=('oi', 'estou', 'estudando', 'poo')      \n",
    "tupla_par(tp)"
   ]
  }
 ],
 "metadata": {
  "kernelspec": {
   "display_name": "Python 3",
   "language": "python",
   "name": "python3"
  },
  "language_info": {
   "codemirror_mode": {
    "name": "ipython",
    "version": 3
   },
   "file_extension": ".py",
   "mimetype": "text/x-python",
   "name": "python",
   "nbconvert_exporter": "python",
   "pygments_lexer": "ipython3",
   "version": "3.5.2"
  }
 },
 "nbformat": 4,
 "nbformat_minor": 2
}
