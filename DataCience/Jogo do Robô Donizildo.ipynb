{
 "cells": [
  {
   "cell_type": "markdown",
   "metadata": {},
   "source": [
    "Jogo do robô donizildo\n",
    "\n",
    "A matriz vai e 0x0 até 10x10"
   ]
  },
  {
   "cell_type": "code",
   "execution_count": 10,
   "metadata": {},
   "outputs": [],
   "source": [
    "class Point(object):\n",
    "    \n",
    "    def __init__(self, x, y):\n",
    "        self.x = x\n",
    "        self.y = y\n",
    "        \n",
    "    def __str__(self):\n",
    "            return '<%s, %s>' % (self.x, self.y)\n",
    "        \n",
    "class Reward(Point):\n",
    "    \n",
    "        def __init__(self, x, y, name):\n",
    "            super(Reward,self).__init__(x, y)\n",
    "            self.name = name\n",
    "        \n",
    "        #conversão dos valores para string\n",
    "        def __str__(self):\n",
    "            return '<%s, %s>: %s' % (self.x, self.y, self.name)\n",
    "        \n",
    "        #conversão dos valores para string\n",
    "        def __repr__(self):\n",
    "            return '<Reward> %s' % str(self)\n",
    "\n",
    "class Robo(Point):\n",
    "        \n",
    "    def move_up(self):\n",
    "        if self.y < 10:\n",
    "            self.y = self.y + 1\n",
    "        else:\n",
    "            print('Essa parede não vale nada, NADA!!!')\n",
    "    \n",
    "    def move_down(self):        \n",
    "        if self.y > 0:\n",
    "            self.y = self.y - 1\n",
    "        else:\n",
    "            print('Oque?! aonde? quem foi que colocou essa parede aqui?!')\n",
    "            \n",
    "    def move_left(self):\n",
    "        if self.x > 0:\n",
    "            self.x = self.x - 1\n",
    "        else:\n",
    "            print('Um... Muro...Tarummm....hmmmm..hmmmmm')\n",
    "    \n",
    "    def move_right(self):\n",
    "        if self.x < 10:\n",
    "            self.x = self.x + 1\n",
    "        else:\n",
    "            print('Uma parede... Nada mais justo... Nada mais justo...')\n",
    "    "
   ]
  },
  {
   "cell_type": "code",
   "execution_count": 11,
   "metadata": {},
   "outputs": [],
   "source": [
    "def check_reward(robot, rewards):\n",
    "    ok = False\n",
    "    for reward in rewards:\n",
    "        if robot.x == reward.x and reward.y == robot.y:\n",
    "            print(\"VAI CURITHA!!!! PEGUEI O ITEM %s\" % reward.name) \n",
    "            ok = True\n",
    "    return ok"
   ]
  },
  {
   "cell_type": "code",
   "execution_count": 12,
   "metadata": {},
   "outputs": [],
   "source": [
    "import random\n",
    "r1 = Reward(random.randint(0, 10),random.randint(0, 10), 'bateria')\n",
    "r2 = Reward(random.randint(0, 10),random.randint(0, 10), 'mapa')\n",
    "r3 = Reward(random.randint(0, 10),random.randint(0, 10), 'Peças')\n",
    "r4 = Reward(random.randint(0, 10),random.randint(0, 10), 'bateria')\n",
    "r5 = Reward(random.randint(0, 10),random.randint(0, 10), 'mapa')\n",
    "r6 = Reward(random.randint(0, 10),random.randint(0, 10), 'Peças')\n",
    "r7 = Reward(random.randint(0, 10),random.randint(0, 10), 'bateria')\n",
    "r8 = Reward(random.randint(0, 10),random.randint(0, 10), 'mapa')\n",
    "r9 = Reward(random.randint(0, 10),random.randint(0, 10), 'Peças')\n",
    "\n",
    "rewards = [r1, r2, r3, r4, r5, r6, r7, r8, r9]"
   ]
  },
  {
   "cell_type": "code",
   "execution_count": 13,
   "metadata": {},
   "outputs": [],
   "source": [
    "robot = Robo(random.randint(0,10), random.randint(0,10))"
   ]
  },
  {
   "cell_type": "code",
   "execution_count": null,
   "metadata": {},
   "outputs": [
    {
     "name": "stdout",
     "output_type": "stream",
     "text": [
      "Digite up, down, left ou right para movimentar: left\n",
      "<1, 2>\n",
      "Digite up, down, left ou right para movimentar: left\n",
      "<0, 2>\n",
      "Digite up, down, left ou right para movimentar: left\n",
      "Um... Muro...Tarummm....hmmmm..hmmmmm\n",
      "<0, 2>\n"
     ]
    }
   ],
   "source": [
    "for i in range(10):\n",
    "    moviment = input(\"Digite up, down, left ou right para movimentar: \")\n",
    "    if moviment == 'up':\n",
    "        robot.move_up()\n",
    "    elif moviment == 'down':\n",
    "        robot.move_down()\n",
    "    elif moviment == 'left':\n",
    "        robot.move_left()\n",
    "    elif moviment == 'right':\n",
    "        robot.move_right()\n",
    "    else:\n",
    "        print('tarummmmm....hmmmmmmm.... Você não pode fazer isso...')\n",
    "        continue\n",
    "    print(robot)\n",
    "    check_reward(robot, rewards)\n",
    "        \n",
    "    "
   ]
  },
  {
   "cell_type": "code",
   "execution_count": null,
   "metadata": {},
   "outputs": [],
   "source": []
  }
 ],
 "metadata": {
  "kernelspec": {
   "display_name": "Python 3",
   "language": "python",
   "name": "python3"
  },
  "language_info": {
   "codemirror_mode": {
    "name": "ipython",
    "version": 3
   },
   "file_extension": ".py",
   "mimetype": "text/x-python",
   "name": "python",
   "nbconvert_exporter": "python",
   "pygments_lexer": "ipython3",
   "version": "3.5.2"
  }
 },
 "nbformat": 4,
 "nbformat_minor": 2
}
