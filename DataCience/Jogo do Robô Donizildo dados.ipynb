{
 "cells": [
  {
   "cell_type": "markdown",
   "metadata": {},
   "source": [
    "Jogo do robô donizildo\n",
    "\n",
    "A matriz vai e 0x0 até 10x10."
   ]
  },
  {
   "cell_type": "code",
   "execution_count": 111,
   "metadata": {},
   "outputs": [],
   "source": [
    "class Point(object):\n",
    "    \n",
    "    def __init__(self, x, y):\n",
    "        self.x = x\n",
    "        self.y = y\n",
    "        \n",
    "    def __str__(self):\n",
    "            return '<%s, %s>' % (self.x, self.y)\n",
    "        \n",
    "class Reward(Point):\n",
    "    \n",
    "        def __init__(self, x, y, name):\n",
    "            super(Reward,self).__init__(x, y)\n",
    "            self.name = name\n",
    "        \n",
    "        def __str__(self):\n",
    "            return '<%s, %s>: %s' % (self.x, self.y, self.name)\n",
    "        \n",
    "        def __repr__(self):\n",
    "            return '<Reward> %s' % str(self)\n",
    "\n",
    "class Robo(Point):\n",
    "        \n",
    "    def move_up(self):\n",
    "        if self.y < 10:\n",
    "            self.y = self.y + 1\n",
    "        else:\n",
    "            print('Essa parede não vale nada, NADA!!!')\n",
    "    \n",
    "    def move_down(self):        \n",
    "        if self.y > 0:\n",
    "            self.y = self.y - 1\n",
    "        else:\n",
    "            print('Oque?! aonde? quem foi que colocou essa parede aqui?!')\n",
    "            \n",
    "    def move_left(self):\n",
    "        if self.x > 0:\n",
    "            self.x = self.x - 1\n",
    "        else:\n",
    "            print('Tarummm....hmmmm..hmmmmm')\n",
    "    \n",
    "    def move_right(self):\n",
    "        if self.x < 10:\n",
    "            selx.x = self.x + 1\n",
    "        else:\n",
    "            print('Uma parede... Nada mais justo... Nada mais justo...')\n",
    "    "
   ]
  },
  {
   "cell_type": "code",
   "execution_count": 112,
   "metadata": {},
   "outputs": [],
   "source": [
    "def check_reward(robot, rewards):\n",
    "    ok = False\n",
    "    for reward in rewards:\n",
    "        if robot.x == reward1.x and reward.y == robot.y:\n",
    "            print(\"VAI CURITHA!!!! PEGUEI O ITEM %s\" % reward.name) \n",
    "            ok = True\n",
    "    return ok"
   ]
  },
  {
   "cell_type": "code",
   "execution_count": 113,
   "metadata": {},
   "outputs": [],
   "source": [
    "import random"
   ]
  },
  {
   "cell_type": "code",
   "execution_count": 114,
   "metadata": {},
   "outputs": [],
   "source": [
    "r1 = Reward(random.randint(0, 10),random.randint(0, 10), 'bateria')\n",
    "r2 = Reward(random.randint(0, 10),random.randint(0, 10), 'mapa')\n",
    "r3 = Reward(random.randint(0, 10),random.randint(0, 10), 'Peças')\n",
    "rewards = [r1, r2, r3]"
   ]
  },
  {
   "cell_type": "code",
   "execution_count": 115,
   "metadata": {},
   "outputs": [
    {
     "name": "stdout",
     "output_type": "stream",
     "text": [
      "<7, 1>: bateria\n"
     ]
    }
   ],
   "source": [
    "print(r1)"
   ]
  },
  {
   "cell_type": "code",
   "execution_count": 116,
   "metadata": {},
   "outputs": [
    {
     "name": "stdout",
     "output_type": "stream",
     "text": [
      "1\n",
      "1\n"
     ]
    }
   ],
   "source": [
    "robot = Robo(1,1)\n",
    "print(robot.x)\n",
    "print(robot.y)"
   ]
  },
  {
   "cell_type": "code",
   "execution_count": 117,
   "metadata": {},
   "outputs": [
    {
     "data": {
      "text/plain": [
       "[<Reward> <7, 1>: bateria, <Reward> <8, 1>: mapa, <Reward> <4, 2>: Peças]"
      ]
     },
     "execution_count": 117,
     "metadata": {},
     "output_type": "execute_result"
    }
   ],
   "source": [
    "rewards"
   ]
  },
  {
   "cell_type": "code",
   "execution_count": 118,
   "metadata": {},
   "outputs": [
    {
     "data": {
      "text/plain": [
       "'<Reward> <7, 1>: bateria'"
      ]
     },
     "execution_count": 118,
     "metadata": {},
     "output_type": "execute_result"
    }
   ],
   "source": [
    "r1.__repr__()"
   ]
  },
  {
   "cell_type": "code",
   "execution_count": 119,
   "metadata": {},
   "outputs": [],
   "source": [
    "robot = Robo(random.randint(0, 10), random.randint(0, 10))"
   ]
  },
  {
   "cell_type": "code",
   "execution_count": 120,
   "metadata": {},
   "outputs": [
    {
     "data": {
      "text/plain": [
       "'<1, 0>'"
      ]
     },
     "execution_count": 120,
     "metadata": {},
     "output_type": "execute_result"
    }
   ],
   "source": [
    "str(robot)"
   ]
  }
 ],
 "metadata": {
  "kernelspec": {
   "display_name": "Python 2",
   "language": "python",
   "name": "python2"
  },
  "language_info": {
   "codemirror_mode": {
    "name": "ipython",
    "version": 2
   },
   "file_extension": ".py",
   "mimetype": "text/x-python",
   "name": "python",
   "nbconvert_exporter": "python",
   "pygments_lexer": "ipython2",
   "version": "2.7.12"
  }
 },
 "nbformat": 4,
 "nbformat_minor": 2
}
