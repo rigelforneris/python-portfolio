{
 "cells": [
  {
   "cell_type": "code",
   "execution_count": 5,
   "metadata": {},
   "outputs": [],
   "source": [
    "import pandas as pd #Inicializa a biblioteca pandas"
   ]
  },
  {
   "cell_type": "code",
   "execution_count": 18,
   "metadata": {},
   "outputs": [],
   "source": [
    "metalbands = pd.read_csv('datasets/bands.csv', delimiter = ',') #Faz a leitura do dataset, \n",
    "                                                                #o mesmo utiliza a virgula como separador"
   ]
  },
  {
   "cell_type": "code",
   "execution_count": 17,
   "metadata": {},
   "outputs": [
    {
     "data": {
      "text/plain": [
       "count           37723\n",
       "unique           2563\n",
       "top       Death Metal\n",
       "freq             9621\n",
       "Name: genre, dtype: object"
      ]
     },
     "execution_count": 17,
     "metadata": {},
     "output_type": "execute_result"
    }
   ],
   "source": [
    "metalbands['genre'].describe() #Mais informações sobre o campo \"genre\""
   ]
  },
  {
   "cell_type": "code",
   "execution_count": 19,
   "metadata": {},
   "outputs": [
    {
     "data": {
      "text/plain": [
       "Index(['id', 'name', 'country', 'status', 'formed_in', 'genre', 'theme',\n",
       "       'active'],\n",
       "      dtype='object')"
      ]
     },
     "execution_count": 19,
     "metadata": {},
     "output_type": "execute_result"
    }
   ],
   "source": [
    "metalbands.columns #Mostra os títulos das colunas do dataset"
   ]
  },
  {
   "cell_type": "code",
   "execution_count": 22,
   "metadata": {},
   "outputs": [
    {
     "data": {
      "text/plain": [
       "pandas.core.frame.DataFrame"
      ]
     },
     "execution_count": 22,
     "metadata": {},
     "output_type": "execute_result"
    }
   ],
   "source": [
    "type(metalbands) # Mostra o tipo "
   ]
  },
  {
   "cell_type": "code",
   "execution_count": 23,
   "metadata": {},
   "outputs": [
    {
     "data": {
      "text/plain": [
       "(37723, 8)"
      ]
     },
     "execution_count": 23,
     "metadata": {},
     "output_type": "execute_result"
    }
   ],
   "source": [
    "metalbands.shape #apresenta o número de tabelas (37.723) e e número de colunas (8)"
   ]
  },
  {
   "cell_type": "code",
   "execution_count": 30,
   "metadata": {
    "scrolled": true
   },
   "outputs": [
    {
     "data": {
      "text/html": [
       "<div>\n",
       "<style scoped>\n",
       "    .dataframe tbody tr th:only-of-type {\n",
       "        vertical-align: middle;\n",
       "    }\n",
       "\n",
       "    .dataframe tbody tr th {\n",
       "        vertical-align: top;\n",
       "    }\n",
       "\n",
       "    .dataframe thead th {\n",
       "        text-align: right;\n",
       "    }\n",
       "</style>\n",
       "<table border=\"1\" class=\"dataframe\">\n",
       "  <thead>\n",
       "    <tr style=\"text-align: right;\">\n",
       "      <th></th>\n",
       "      <th>id</th>\n",
       "      <th>name</th>\n",
       "      <th>country</th>\n",
       "      <th>status</th>\n",
       "      <th>formed_in</th>\n",
       "      <th>genre</th>\n",
       "      <th>theme</th>\n",
       "      <th>active</th>\n",
       "    </tr>\n",
       "  </thead>\n",
       "  <tbody>\n",
       "    <tr>\n",
       "      <th>0</th>\n",
       "      <td>1</td>\n",
       "      <td>('M') Inc.</td>\n",
       "      <td>United States</td>\n",
       "      <td>Unknown</td>\n",
       "      <td>2009.0</td>\n",
       "      <td>Death Metal</td>\n",
       "      <td>NaN</td>\n",
       "      <td>2009-?</td>\n",
       "    </tr>\n",
       "    <tr>\n",
       "      <th>1</th>\n",
       "      <td>2</td>\n",
       "      <td>(sic)</td>\n",
       "      <td>United States</td>\n",
       "      <td>Split-up</td>\n",
       "      <td>1993.0</td>\n",
       "      <td>Death Metal</td>\n",
       "      <td>NaN</td>\n",
       "      <td>1993-1996</td>\n",
       "    </tr>\n",
       "    <tr>\n",
       "      <th>2</th>\n",
       "      <td>3</td>\n",
       "      <td>.F.O.A.D.</td>\n",
       "      <td>France</td>\n",
       "      <td>Active</td>\n",
       "      <td>2009.0</td>\n",
       "      <td>Death Metal</td>\n",
       "      <td>Life and Death</td>\n",
       "      <td>2009-present</td>\n",
       "    </tr>\n",
       "  </tbody>\n",
       "</table>\n",
       "</div>"
      ],
      "text/plain": [
       "   id        name        country    status  formed_in        genre  \\\n",
       "0   1  ('M') Inc.  United States   Unknown     2009.0  Death Metal   \n",
       "1   2       (sic)  United States  Split-up     1993.0  Death Metal   \n",
       "2   3   .F.O.A.D.         France    Active     2009.0  Death Metal   \n",
       "\n",
       "            theme        active  \n",
       "0             NaN        2009-?  \n",
       "1             NaN     1993-1996  \n",
       "2  Life and Death  2009-present  "
      ]
     },
     "execution_count": 30,
     "metadata": {},
     "output_type": "execute_result"
    }
   ],
   "source": [
    "metalbands.iloc[:3,:] # Mostra as 3 primeiras linhas"
   ]
  },
  {
   "cell_type": "code",
   "execution_count": 33,
   "metadata": {},
   "outputs": [
    {
     "data": {
      "text/html": [
       "<div>\n",
       "<style scoped>\n",
       "    .dataframe tbody tr th:only-of-type {\n",
       "        vertical-align: middle;\n",
       "    }\n",
       "\n",
       "    .dataframe tbody tr th {\n",
       "        vertical-align: top;\n",
       "    }\n",
       "\n",
       "    .dataframe thead th {\n",
       "        text-align: right;\n",
       "    }\n",
       "</style>\n",
       "<table border=\"1\" class=\"dataframe\">\n",
       "  <thead>\n",
       "    <tr style=\"text-align: right;\">\n",
       "      <th></th>\n",
       "      <th>id</th>\n",
       "      <th>name</th>\n",
       "      <th>country</th>\n",
       "      <th>status</th>\n",
       "      <th>formed_in</th>\n",
       "      <th>genre</th>\n",
       "      <th>theme</th>\n",
       "      <th>active</th>\n",
       "    </tr>\n",
       "  </thead>\n",
       "  <tbody>\n",
       "    <tr>\n",
       "      <th>37720</th>\n",
       "      <td>37721</td>\n",
       "      <td>Lunarsapian</td>\n",
       "      <td>International</td>\n",
       "      <td>Active</td>\n",
       "      <td>2008.0</td>\n",
       "      <td>Black/Death/Doom Metal (early)| Drone/Dark Amb...</td>\n",
       "      <td>NaN</td>\n",
       "      <td>2008-present</td>\n",
       "    </tr>\n",
       "    <tr>\n",
       "      <th>37721</th>\n",
       "      <td>37722</td>\n",
       "      <td>Subconscious</td>\n",
       "      <td>Germany</td>\n",
       "      <td>Active</td>\n",
       "      <td>1990.0</td>\n",
       "      <td>Progressive Thrash/Death Metal (1992| 2002-pre...</td>\n",
       "      <td>NaN</td>\n",
       "      <td>1990-1997| 2002-present</td>\n",
       "    </tr>\n",
       "    <tr>\n",
       "      <th>37722</th>\n",
       "      <td>37723</td>\n",
       "      <td>Frozen Mist</td>\n",
       "      <td>United States</td>\n",
       "      <td>Active</td>\n",
       "      <td>2004.0</td>\n",
       "      <td>Gothic Metal (2004-2006)| Melodic Death/Gothic...</td>\n",
       "      <td>Darkness| Despair| Death| Horror| Pagan Ancestry</td>\n",
       "      <td>2004-2014| 2014-2016| 2016-present</td>\n",
       "    </tr>\n",
       "  </tbody>\n",
       "</table>\n",
       "</div>"
      ],
      "text/plain": [
       "          id          name        country  status  formed_in  \\\n",
       "37720  37721   Lunarsapian  International  Active     2008.0   \n",
       "37721  37722  Subconscious        Germany  Active     1990.0   \n",
       "37722  37723   Frozen Mist  United States  Active     2004.0   \n",
       "\n",
       "                                                   genre  \\\n",
       "37720  Black/Death/Doom Metal (early)| Drone/Dark Amb...   \n",
       "37721  Progressive Thrash/Death Metal (1992| 2002-pre...   \n",
       "37722  Gothic Metal (2004-2006)| Melodic Death/Gothic...   \n",
       "\n",
       "                                                  theme  \\\n",
       "37720                                               NaN   \n",
       "37721                                               NaN   \n",
       "37722  Darkness| Despair| Death| Horror| Pagan Ancestry   \n",
       "\n",
       "                                   active  \n",
       "37720                        2008-present  \n",
       "37721             1990-1997| 2002-present  \n",
       "37722  2004-2014| 2014-2016| 2016-present  "
      ]
     },
     "execution_count": 33,
     "metadata": {},
     "output_type": "execute_result"
    }
   ],
   "source": [
    "metalbands.iloc[-3:,:] #apresenta as 3 ultimas linhas"
   ]
  },
  {
   "cell_type": "code",
   "execution_count": 34,
   "metadata": {
    "scrolled": true
   },
   "outputs": [
    {
     "data": {
      "text/html": [
       "<div>\n",
       "<style scoped>\n",
       "    .dataframe tbody tr th:only-of-type {\n",
       "        vertical-align: middle;\n",
       "    }\n",
       "\n",
       "    .dataframe tbody tr th {\n",
       "        vertical-align: top;\n",
       "    }\n",
       "\n",
       "    .dataframe thead th {\n",
       "        text-align: right;\n",
       "    }\n",
       "</style>\n",
       "<table border=\"1\" class=\"dataframe\">\n",
       "  <thead>\n",
       "    <tr style=\"text-align: right;\">\n",
       "      <th></th>\n",
       "      <th>id</th>\n",
       "      <th>name</th>\n",
       "      <th>country</th>\n",
       "      <th>status</th>\n",
       "      <th>formed_in</th>\n",
       "      <th>genre</th>\n",
       "      <th>theme</th>\n",
       "      <th>active</th>\n",
       "    </tr>\n",
       "  </thead>\n",
       "  <tbody>\n",
       "    <tr>\n",
       "      <th>0</th>\n",
       "      <td>1</td>\n",
       "      <td>('M') Inc.</td>\n",
       "      <td>United States</td>\n",
       "      <td>Unknown</td>\n",
       "      <td>2009.0</td>\n",
       "      <td>Death Metal</td>\n",
       "      <td>NaN</td>\n",
       "      <td>2009-?</td>\n",
       "    </tr>\n",
       "    <tr>\n",
       "      <th>1</th>\n",
       "      <td>2</td>\n",
       "      <td>(sic)</td>\n",
       "      <td>United States</td>\n",
       "      <td>Split-up</td>\n",
       "      <td>1993.0</td>\n",
       "      <td>Death Metal</td>\n",
       "      <td>NaN</td>\n",
       "      <td>1993-1996</td>\n",
       "    </tr>\n",
       "    <tr>\n",
       "      <th>2</th>\n",
       "      <td>3</td>\n",
       "      <td>.F.O.A.D.</td>\n",
       "      <td>France</td>\n",
       "      <td>Active</td>\n",
       "      <td>2009.0</td>\n",
       "      <td>Death Metal</td>\n",
       "      <td>Life and Death</td>\n",
       "      <td>2009-present</td>\n",
       "    </tr>\n",
       "    <tr>\n",
       "      <th>3</th>\n",
       "      <td>4</td>\n",
       "      <td>100 Suns</td>\n",
       "      <td>United States</td>\n",
       "      <td>Active</td>\n",
       "      <td>2004.0</td>\n",
       "      <td>Death Metal</td>\n",
       "      <td>NaN</td>\n",
       "      <td>2004-present</td>\n",
       "    </tr>\n",
       "    <tr>\n",
       "      <th>4</th>\n",
       "      <td>5</td>\n",
       "      <td>12 Days of Anarchy</td>\n",
       "      <td>United States</td>\n",
       "      <td>Split-up</td>\n",
       "      <td>1998.0</td>\n",
       "      <td>Death Metal</td>\n",
       "      <td>Anarchy</td>\n",
       "      <td>1998-2002</td>\n",
       "    </tr>\n",
       "    <tr>\n",
       "      <th>5</th>\n",
       "      <td>6</td>\n",
       "      <td>13th Cadaver</td>\n",
       "      <td>United States</td>\n",
       "      <td>Changed name</td>\n",
       "      <td>2006.0</td>\n",
       "      <td>Death Metal</td>\n",
       "      <td>Death| Gore| Undead</td>\n",
       "      <td>2006-?| ?-2007 (as Splatter the Cadaver)| 2008...</td>\n",
       "    </tr>\n",
       "  </tbody>\n",
       "</table>\n",
       "</div>"
      ],
      "text/plain": [
       "   id                name        country        status  formed_in  \\\n",
       "0   1          ('M') Inc.  United States       Unknown     2009.0   \n",
       "1   2               (sic)  United States      Split-up     1993.0   \n",
       "2   3           .F.O.A.D.         France        Active     2009.0   \n",
       "3   4            100 Suns  United States        Active     2004.0   \n",
       "4   5  12 Days of Anarchy  United States      Split-up     1998.0   \n",
       "5   6        13th Cadaver  United States  Changed name     2006.0   \n",
       "\n",
       "         genre                theme  \\\n",
       "0  Death Metal                  NaN   \n",
       "1  Death Metal                  NaN   \n",
       "2  Death Metal       Life and Death   \n",
       "3  Death Metal                  NaN   \n",
       "4  Death Metal              Anarchy   \n",
       "5  Death Metal  Death| Gore| Undead   \n",
       "\n",
       "                                              active  \n",
       "0                                             2009-?  \n",
       "1                                          1993-1996  \n",
       "2                                       2009-present  \n",
       "3                                       2004-present  \n",
       "4                                          1998-2002  \n",
       "5  2006-?| ?-2007 (as Splatter the Cadaver)| 2008...  "
      ]
     },
     "execution_count": 34,
     "metadata": {},
     "output_type": "execute_result"
    }
   ],
   "source": [
    "metalbands.head(6) #Lista o 6 primeiros valores, sem o valor especificado mostra 5"
   ]
  },
  {
   "cell_type": "code",
   "execution_count": 36,
   "metadata": {},
   "outputs": [
    {
     "data": {
      "text/html": [
       "<div>\n",
       "<style scoped>\n",
       "    .dataframe tbody tr th:only-of-type {\n",
       "        vertical-align: middle;\n",
       "    }\n",
       "\n",
       "    .dataframe tbody tr th {\n",
       "        vertical-align: top;\n",
       "    }\n",
       "\n",
       "    .dataframe thead th {\n",
       "        text-align: right;\n",
       "    }\n",
       "</style>\n",
       "<table border=\"1\" class=\"dataframe\">\n",
       "  <thead>\n",
       "    <tr style=\"text-align: right;\">\n",
       "      <th></th>\n",
       "      <th>id</th>\n",
       "      <th>name</th>\n",
       "      <th>country</th>\n",
       "      <th>status</th>\n",
       "      <th>formed_in</th>\n",
       "      <th>genre</th>\n",
       "      <th>theme</th>\n",
       "      <th>active</th>\n",
       "    </tr>\n",
       "  </thead>\n",
       "  <tbody>\n",
       "    <tr>\n",
       "      <th>37717</th>\n",
       "      <td>37718</td>\n",
       "      <td>Extreme Noise Terror</td>\n",
       "      <td>United Kingdom</td>\n",
       "      <td>Active</td>\n",
       "      <td>1985.0</td>\n",
       "      <td>Crust/Grindcore (early)| Hardcore Punk/Death M...</td>\n",
       "      <td>Animal Rights| Social/Political| Hate| Humanity</td>\n",
       "      <td>1985 (as Raw Noise)| 1985-present</td>\n",
       "    </tr>\n",
       "    <tr>\n",
       "      <th>37718</th>\n",
       "      <td>37719</td>\n",
       "      <td>Gladiator</td>\n",
       "      <td>Slovakia</td>\n",
       "      <td>Active</td>\n",
       "      <td>1988.0</td>\n",
       "      <td>Death/Thrash Metal (1988-93)| Grunge/Hard Rock...</td>\n",
       "      <td>Sorrow| Nuclear War| Doom</td>\n",
       "      <td>1988-present</td>\n",
       "    </tr>\n",
       "    <tr>\n",
       "      <th>37719</th>\n",
       "      <td>37720</td>\n",
       "      <td>Innersight</td>\n",
       "      <td>Hungary</td>\n",
       "      <td>Active</td>\n",
       "      <td>1997.0</td>\n",
       "      <td>Post-Rock (early)| Progressive Death Metal (mi...</td>\n",
       "      <td>NaN</td>\n",
       "      <td>1997-present</td>\n",
       "    </tr>\n",
       "    <tr>\n",
       "      <th>37720</th>\n",
       "      <td>37721</td>\n",
       "      <td>Lunarsapian</td>\n",
       "      <td>International</td>\n",
       "      <td>Active</td>\n",
       "      <td>2008.0</td>\n",
       "      <td>Black/Death/Doom Metal (early)| Drone/Dark Amb...</td>\n",
       "      <td>NaN</td>\n",
       "      <td>2008-present</td>\n",
       "    </tr>\n",
       "    <tr>\n",
       "      <th>37721</th>\n",
       "      <td>37722</td>\n",
       "      <td>Subconscious</td>\n",
       "      <td>Germany</td>\n",
       "      <td>Active</td>\n",
       "      <td>1990.0</td>\n",
       "      <td>Progressive Thrash/Death Metal (1992| 2002-pre...</td>\n",
       "      <td>NaN</td>\n",
       "      <td>1990-1997| 2002-present</td>\n",
       "    </tr>\n",
       "    <tr>\n",
       "      <th>37722</th>\n",
       "      <td>37723</td>\n",
       "      <td>Frozen Mist</td>\n",
       "      <td>United States</td>\n",
       "      <td>Active</td>\n",
       "      <td>2004.0</td>\n",
       "      <td>Gothic Metal (2004-2006)| Melodic Death/Gothic...</td>\n",
       "      <td>Darkness| Despair| Death| Horror| Pagan Ancestry</td>\n",
       "      <td>2004-2014| 2014-2016| 2016-present</td>\n",
       "    </tr>\n",
       "  </tbody>\n",
       "</table>\n",
       "</div>"
      ],
      "text/plain": [
       "          id                  name         country  status  formed_in  \\\n",
       "37717  37718  Extreme Noise Terror  United Kingdom  Active     1985.0   \n",
       "37718  37719             Gladiator        Slovakia  Active     1988.0   \n",
       "37719  37720            Innersight         Hungary  Active     1997.0   \n",
       "37720  37721           Lunarsapian   International  Active     2008.0   \n",
       "37721  37722          Subconscious         Germany  Active     1990.0   \n",
       "37722  37723           Frozen Mist   United States  Active     2004.0   \n",
       "\n",
       "                                                   genre  \\\n",
       "37717  Crust/Grindcore (early)| Hardcore Punk/Death M...   \n",
       "37718  Death/Thrash Metal (1988-93)| Grunge/Hard Rock...   \n",
       "37719  Post-Rock (early)| Progressive Death Metal (mi...   \n",
       "37720  Black/Death/Doom Metal (early)| Drone/Dark Amb...   \n",
       "37721  Progressive Thrash/Death Metal (1992| 2002-pre...   \n",
       "37722  Gothic Metal (2004-2006)| Melodic Death/Gothic...   \n",
       "\n",
       "                                                  theme  \\\n",
       "37717   Animal Rights| Social/Political| Hate| Humanity   \n",
       "37718                         Sorrow| Nuclear War| Doom   \n",
       "37719                                               NaN   \n",
       "37720                                               NaN   \n",
       "37721                                               NaN   \n",
       "37722  Darkness| Despair| Death| Horror| Pagan Ancestry   \n",
       "\n",
       "                                   active  \n",
       "37717   1985 (as Raw Noise)| 1985-present  \n",
       "37718                        1988-present  \n",
       "37719                        1997-present  \n",
       "37720                        2008-present  \n",
       "37721             1990-1997| 2002-present  \n",
       "37722  2004-2014| 2014-2016| 2016-present  "
      ]
     },
     "execution_count": 36,
     "metadata": {},
     "output_type": "execute_result"
    }
   ],
   "source": [
    "metalbands.tail(6) #Mostra os 6 últimos valores, sem o valor definido mostra os 5"
   ]
  },
  {
   "cell_type": "code",
   "execution_count": 37,
   "metadata": {},
   "outputs": [
    {
     "name": "stdout",
     "output_type": "stream",
     "text": [
      "<class 'pandas.core.frame.DataFrame'>\n",
      "RangeIndex: 37723 entries, 0 to 37722\n",
      "Data columns (total 8 columns):\n",
      "id           37723 non-null int64\n",
      "name         37723 non-null object\n",
      "country      37723 non-null object\n",
      "status       37723 non-null object\n",
      "formed_in    33392 non-null float64\n",
      "genre        37723 non-null object\n",
      "theme        20179 non-null object\n",
      "active       33796 non-null object\n",
      "dtypes: float64(1), int64(1), object(6)\n",
      "memory usage: 2.3+ MB\n"
     ]
    }
   ],
   "source": [
    "metalbands.info() #Mostra as informações"
   ]
  },
  {
   "cell_type": "code",
   "execution_count": 49,
   "metadata": {},
   "outputs": [],
   "source": [
    "sts = metalbands['status'] #Mostra somente o campo 'status'"
   ]
  },
  {
   "cell_type": "code",
   "execution_count": 55,
   "metadata": {},
   "outputs": [
    {
     "data": {
      "text/plain": [
       "0     Unknown\n",
       "1    Split-up\n",
       "2      Active\n",
       "3      Active\n",
       "4    Split-up\n",
       "Name: status, dtype: object"
      ]
     },
     "execution_count": 55,
     "metadata": {},
     "output_type": "execute_result"
    }
   ],
   "source": [
    "sts.head(5)"
   ]
  },
  {
   "cell_type": "code",
   "execution_count": 52,
   "metadata": {},
   "outputs": [],
   "source": [
    "stss = sts.values"
   ]
  },
  {
   "cell_type": "code",
   "execution_count": 54,
   "metadata": {},
   "outputs": [
    {
     "data": {
      "text/plain": [
       "numpy.ndarray"
      ]
     },
     "execution_count": 54,
     "metadata": {},
     "output_type": "execute_result"
    }
   ],
   "source": [
    "type(stss)"
   ]
  },
  {
   "cell_type": "code",
   "execution_count": null,
   "metadata": {},
   "outputs": [],
   "source": []
  }
 ],
 "metadata": {
  "kernelspec": {
   "display_name": "Python 3",
   "language": "python",
   "name": "python3"
  },
  "language_info": {
   "codemirror_mode": {
    "name": "ipython",
    "version": 3
   },
   "file_extension": ".py",
   "mimetype": "text/x-python",
   "name": "python",
   "nbconvert_exporter": "python",
   "pygments_lexer": "ipython3",
   "version": "3.6.5"
  }
 },
 "nbformat": 4,
 "nbformat_minor": 2
}
