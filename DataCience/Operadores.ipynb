{
 "cells": [
  {
   "cell_type": "code",
   "execution_count": 3,
   "metadata": {},
   "outputs": [
    {
     "name": "stdout",
     "output_type": "stream",
     "text": [
      "False\n",
      "True\n"
     ]
    }
   ],
   "source": [
    "# == igualdade\n",
    "# > maior que\n",
    "# < menor que\n",
    "# != diferente\n",
    "# >= maior ou igual\n",
    "# <= menor ou igual\n",
    "\n",
    "#operadores aritméticos\n",
    "\n",
    "#+ soma\n",
    "#- subtração\n",
    "#* multiplicação\n",
    "#/ divisão\n",
    "#// divisão inteira\n",
    "#** exponenciação\n",
    "#% resto\n",
    "\n",
    "#operadores lógicos\n",
    "\n",
    "# not -> não (negação)\n",
    "# and -> e (conjunção)\n",
    "# or -> ou (disjunção)\n",
    "\n",
    "#metodos do str: help(str)\n",
    "\n",
    "n1 = 10\n",
    "n2 = 20\n",
    "print(n1 > n2)\n",
    "print(n1 < n2)"
   ]
  },
  {
   "cell_type": "code",
   "execution_count": 5,
   "metadata": {},
   "outputs": [
    {
     "name": "stdout",
     "output_type": "stream",
     "text": [
      "False\n"
     ]
    }
   ],
   "source": [
    "media_aluno = 6.5\n",
    "media_aprovado = 7\n",
    "resultado = media_aluno >= media_aprovado\n",
    "print(resultado)\n"
   ]
  },
  {
   "cell_type": "code",
   "execution_count": 7,
   "metadata": {},
   "outputs": [
    {
     "name": "stdout",
     "output_type": "stream",
     "text": [
      "False\n"
     ]
    }
   ],
   "source": [
    "aprovado = True\n",
    "nao_aprovado = not aprovado\n",
    "print(nao_aprovado)"
   ]
  },
  {
   "cell_type": "code",
   "execution_count": 5,
   "metadata": {},
   "outputs": [
    {
     "name": "stdout",
     "output_type": "stream",
     "text": [
      "e\n",
      "Rig\n",
      "g\n"
     ]
    }
   ],
   "source": [
    "nome = \"Rigel\"\n",
    "sobrenome = \"Forneris\"\n",
    "nome_completo = nome + sobrenome\n",
    "\n",
    "print(nome[3])\n",
    "print(nome[0:3])\n",
    "print(nome[-3])\n"
   ]
  },
  {
   "cell_type": "code",
   "execution_count": 4,
   "metadata": {},
   "outputs": [
    {
     "name": "stdout",
     "output_type": "stream",
     "text": [
      "pythonpythonpython\n"
     ]
    }
   ],
   "source": [
    "linguagem = 'python'\n",
    "print (3 * linguagem)"
   ]
  },
  {
   "cell_type": "code",
   "execution_count": 10,
   "metadata": {
    "scrolled": true
   },
   "outputs": [
    {
     "data": {
      "text/plain": [
       "'João tem 20 anos e sua namorada se chama Maria , ela tem 21 anos'"
      ]
     },
     "execution_count": 10,
     "metadata": {},
     "output_type": "execute_result"
    }
   ],
   "source": [
    "#%d = numero\n",
    "#%s = string\n",
    "#%f = float\n",
    "\n",
    "idade = 20\n",
    "idade2 = 21\n",
    "namorada = 'Maria'\n",
    "\n",
    "'João tem %d anos e sua namorada se chama %s , ela tem %d anos' % (idade, namorada, idade2)"
   ]
  },
  {
   "cell_type": "code",
   "execution_count": 12,
   "metadata": {},
   "outputs": [
    {
     "name": "stdout",
     "output_type": "stream",
     "text": [
      "3.121\n"
     ]
    }
   ],
   "source": [
    "media = 3.12123123\n",
    "print('%.3f' % media)"
   ]
  },
  {
   "cell_type": "code",
   "execution_count": 13,
   "metadata": {},
   "outputs": [],
   "source": [
    "nome = 'Rigel'\n",
    "nome = 'Rigel Forneris'"
   ]
  }
 ],
 "metadata": {
  "kernelspec": {
   "display_name": "Python 3",
   "language": "python",
   "name": "python3"
  },
  "language_info": {
   "codemirror_mode": {
    "name": "ipython",
    "version": 3
   },
   "file_extension": ".py",
   "mimetype": "text/x-python",
   "name": "python",
   "nbconvert_exporter": "python",
   "pygments_lexer": "ipython3",
   "version": "3.5.2"
  }
 },
 "nbformat": 4,
 "nbformat_minor": 2
}
