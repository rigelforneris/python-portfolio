{
 "cells": [
  {
   "cell_type": "code",
   "execution_count": null,
   "metadata": {},
   "outputs": [],
   "source": [
    "#São parecidos com as listas, porém com padrões de acesso diferentes,\n",
    "#são composto por um conjunto de chaves e valores, \n",
    "#se tem uma relação de uma chave com valor\n",
    "#A chave é a 'index' por valor\n",
    "#Cada elemento de uma chave é a combinação de chave + valor\n",
    "#Exemplo: d = {'Rigel':29}        \n",
    "#         |       |     |\n",
    "#      Variável  Chave Valor"
   ]
  },
  {
   "cell_type": "code",
   "execution_count": 2,
   "metadata": {},
   "outputs": [
    {
     "name": "stdout",
     "output_type": "stream",
     "text": [
      "{'pedro': 18, 'maria': 20, 'marcos': 28}\n",
      "28\n"
     ]
    }
   ],
   "source": [
    "d = {'marcos':28, 'maria':20, 'pedro':18}\n",
    "print(d)\n",
    "print(d['marcos'])"
   ]
  },
  {
   "cell_type": "code",
   "execution_count": 10,
   "metadata": {},
   "outputs": [
    {
     "name": "stdout",
     "output_type": "stream",
     "text": [
      "{'pedro': 18, 'maria': 20, 'marcos': 25}\n",
      "25\n",
      "{'pedro': 18, 'maria': 20, 'marcos': 25, 'Felipe': 30}\n",
      "18 20 25 30 dict_items([('pedro', 18), ('maria', 20), ('marcos', 25), ('Felipe', 30)])\n",
      "dict_keys(['pedro', 'maria', 'marcos', 'Felipe'])\n",
      "dict_values([18, 20, 25, 30])\n",
      "True\n"
     ]
    }
   ],
   "source": [
    "d = {'marcos':28, 'maria':20, 'pedro':18}\n",
    "d['marcos'] = 25\n",
    "print(d)\n",
    "print(d['marcos'])\n",
    "d['Felipe'] = 30\n",
    "print(d)\n",
    "\n",
    "for k in d:\n",
    "    print(d[k], end=' ')\n",
    "    \n",
    "print(d.items())\n",
    "print(d.keys())\n",
    "print(d.values())\n",
    "\n",
    "print('maria' in d)"
   ]
  }
 ],
 "metadata": {
  "kernelspec": {
   "display_name": "Python 3",
   "language": "python",
   "name": "python3"
  },
  "language_info": {
   "codemirror_mode": {
    "name": "ipython",
    "version": 3
   },
   "file_extension": ".py",
   "mimetype": "text/x-python",
   "name": "python",
   "nbconvert_exporter": "python",
   "pygments_lexer": "ipython3",
   "version": "3.5.2"
  }
 },
 "nbformat": 4,
 "nbformat_minor": 2
}
